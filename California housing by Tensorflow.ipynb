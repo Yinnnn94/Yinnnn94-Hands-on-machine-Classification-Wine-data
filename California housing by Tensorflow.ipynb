{
 "cells": [
  {
   "cell_type": "code",
   "execution_count": 1,
   "id": "511e52e6",
   "metadata": {},
   "outputs": [],
   "source": [
    "from sklearn.datasets import fetch_california_housing\n",
    "from sklearn.model_selection import train_test_split\n",
    "from sklearn.preprocessing import StandardScaler\n",
    "import tensorflow as tf\n",
    "from tensorflow import keras\n",
    "scaler=StandardScaler()"
   ]
  },
  {
   "cell_type": "code",
   "execution_count": 2,
   "id": "bfd934ca",
   "metadata": {},
   "outputs": [
    {
     "data": {
      "text/plain": [
       "dict_keys(['data', 'target', 'frame', 'target_names', 'feature_names', 'DESCR'])"
      ]
     },
     "execution_count": 2,
     "metadata": {},
     "output_type": "execute_result"
    }
   ],
   "source": [
    "housing=fetch_california_housing()\n",
    "housing.keys()"
   ]
  },
  {
   "cell_type": "code",
   "execution_count": 3,
   "id": "c7fe9f24",
   "metadata": {},
   "outputs": [
    {
     "data": {
      "text/plain": [
       "((15480, 8), (15480,))"
      ]
     },
     "execution_count": 3,
     "metadata": {},
     "output_type": "execute_result"
    }
   ],
   "source": [
    "x_train_all, x_test_all, y_train_all, y_test=train_test_split(housing['data'],housing['target'])\n",
    "x_train_all.shape,y_train_all.shape"
   ]
  },
  {
   "cell_type": "code",
   "execution_count": 13,
   "id": "778cc6d8",
   "metadata": {},
   "outputs": [
    {
     "data": {
      "text/plain": [
       "((5160, 8), (5160,))"
      ]
     },
     "execution_count": 13,
     "metadata": {},
     "output_type": "execute_result"
    }
   ],
   "source": [
    "x_train=scaler.fit_transform(x_train_all)\n",
    "x_test=scaler.fit_transform(x_test_all)\n",
    "x_test.shape,y_test.shape"
   ]
  },
  {
   "cell_type": "code",
   "execution_count": 5,
   "id": "d061c985",
   "metadata": {},
   "outputs": [
    {
     "data": {
      "text/plain": [
       "((11610, 8), (3870, 8))"
      ]
     },
     "execution_count": 5,
     "metadata": {},
     "output_type": "execute_result"
    }
   ],
   "source": [
    "x_real_train, x_valid=train_test_split(x_train)\n",
    "x_real_train.shape, x_valid.shape"
   ]
  },
  {
   "cell_type": "code",
   "execution_count": 6,
   "id": "0082ea2b",
   "metadata": {},
   "outputs": [
    {
     "data": {
      "text/plain": [
       "((11610,), (3870,))"
      ]
     },
     "execution_count": 6,
     "metadata": {},
     "output_type": "execute_result"
    }
   ],
   "source": [
    "y_real_train, y_valid=train_test_split(y_train_all)\n",
    "y_real_train.shape, y_valid.shape"
   ]
  },
  {
   "cell_type": "code",
   "execution_count": 7,
   "id": "a33c4290",
   "metadata": {},
   "outputs": [],
   "source": [
    "reg_model=keras.models.Sequential([keras.layers.Input(shape=(x_real_train.shape[1:])),\n",
    "                                   keras.layers.Dense(50,activation='relu'),\n",
    "                                   keras.layers.Dense(10,activation='relu'),\n",
    "                                   keras.layers.Dense(1)])"
   ]
  },
  {
   "cell_type": "code",
   "execution_count": 8,
   "id": "10a0b07f",
   "metadata": {},
   "outputs": [
    {
     "name": "stdout",
     "output_type": "stream",
     "text": [
      "Model: \"sequential\"\n",
      "_________________________________________________________________\n",
      " Layer (type)                Output Shape              Param #   \n",
      "=================================================================\n",
      " dense (Dense)               (None, 50)                450       \n",
      "                                                                 \n",
      " dense_1 (Dense)             (None, 10)                510       \n",
      "                                                                 \n",
      " dense_2 (Dense)             (None, 1)                 11        \n",
      "                                                                 \n",
      "=================================================================\n",
      "Total params: 971\n",
      "Trainable params: 971\n",
      "Non-trainable params: 0\n",
      "_________________________________________________________________\n"
     ]
    }
   ],
   "source": [
    "reg_model.summary()"
   ]
  },
  {
   "cell_type": "code",
   "execution_count": 9,
   "id": "d6112910",
   "metadata": {},
   "outputs": [
    {
     "name": "stdout",
     "output_type": "stream",
     "text": [
      "Epoch 1/25\n",
      "726/726 [==============================] - 1s 907us/step - loss: 0.9411 - mse: 1.6412 - val_loss: 0.8932 - val_mse: 1.4100\n",
      "Epoch 2/25\n",
      "726/726 [==============================] - 1s 781us/step - loss: 0.8931 - mse: 1.4304 - val_loss: 0.8936 - val_mse: 1.4740\n",
      "Epoch 3/25\n",
      "726/726 [==============================] - 1s 768us/step - loss: 0.8902 - mse: 1.4231 - val_loss: 0.8866 - val_mse: 1.4144\n",
      "Epoch 4/25\n",
      "726/726 [==============================] - 1s 805us/step - loss: 0.8879 - mse: 1.4176 - val_loss: 0.8887 - val_mse: 1.4442\n",
      "Epoch 5/25\n",
      "726/726 [==============================] - 1s 1ms/step - loss: 0.8871 - mse: 1.4106 - val_loss: 0.8869 - val_mse: 1.4265\n",
      "Epoch 6/25\n",
      "726/726 [==============================] - 1s 2ms/step - loss: 0.8867 - mse: 1.4137 - val_loss: 0.8895 - val_mse: 1.3898\n",
      "Epoch 7/25\n",
      "726/726 [==============================] - 1s 1ms/step - loss: 0.8858 - mse: 1.4081 - val_loss: 0.8858 - val_mse: 1.3923\n",
      "Epoch 8/25\n",
      "726/726 [==============================] - 1s 2ms/step - loss: 0.8855 - mse: 1.4140 - val_loss: 0.8865 - val_mse: 1.4109\n",
      "Epoch 9/25\n",
      "726/726 [==============================] - 1s 2ms/step - loss: 0.8853 - mse: 1.4088 - val_loss: 0.8884 - val_mse: 1.4111\n",
      "Epoch 10/25\n",
      "726/726 [==============================] - 1s 2ms/step - loss: 0.8849 - mse: 1.4107 - val_loss: 0.8871 - val_mse: 1.4177\n",
      "Epoch 11/25\n",
      "726/726 [==============================] - 2s 2ms/step - loss: 0.8835 - mse: 1.4086 - val_loss: 0.8923 - val_mse: 1.3652\n",
      "Epoch 12/25\n",
      "726/726 [==============================] - 1s 2ms/step - loss: 0.8845 - mse: 1.4085 - val_loss: 0.8879 - val_mse: 1.3700\n",
      "Epoch 13/25\n",
      "726/726 [==============================] - 1s 2ms/step - loss: 0.8838 - mse: 1.4060 - val_loss: 0.8878 - val_mse: 1.3747\n",
      "Epoch 14/25\n",
      "726/726 [==============================] - 2s 2ms/step - loss: 0.8840 - mse: 1.4042 - val_loss: 0.8856 - val_mse: 1.4225\n",
      "Epoch 15/25\n",
      "726/726 [==============================] - 3s 4ms/step - loss: 0.8829 - mse: 1.4076 - val_loss: 0.8903 - val_mse: 1.3793\n",
      "Epoch 16/25\n",
      "726/726 [==============================] - 2s 2ms/step - loss: 0.8836 - mse: 1.4045 - val_loss: 0.8849 - val_mse: 1.4165\n",
      "Epoch 17/25\n",
      "726/726 [==============================] - 1s 2ms/step - loss: 0.8834 - mse: 1.4069 - val_loss: 0.8871 - val_mse: 1.3871\n",
      "Epoch 18/25\n",
      "726/726 [==============================] - 1s 2ms/step - loss: 0.8828 - mse: 1.4020 - val_loss: 0.8890 - val_mse: 1.3868\n",
      "Epoch 19/25\n",
      "726/726 [==============================] - 1s 1ms/step - loss: 0.8831 - mse: 1.4019 - val_loss: 0.8868 - val_mse: 1.4156\n",
      "Epoch 20/25\n",
      "726/726 [==============================] - 1s 2ms/step - loss: 0.8828 - mse: 1.4009 - val_loss: 0.8872 - val_mse: 1.4137\n",
      "Epoch 21/25\n",
      "726/726 [==============================] - 1s 2ms/step - loss: 0.8823 - mse: 1.4029 - val_loss: 0.8923 - val_mse: 1.4495\n",
      "Epoch 22/25\n",
      "726/726 [==============================] - 1s 1ms/step - loss: 0.8825 - mse: 1.4008 - val_loss: 0.8871 - val_mse: 1.4301\n",
      "Epoch 23/25\n",
      "726/726 [==============================] - 1s 1ms/step - loss: 0.8826 - mse: 1.4057 - val_loss: 0.8899 - val_mse: 1.4700\n",
      "Epoch 24/25\n",
      "726/726 [==============================] - 1s 2ms/step - loss: 0.8822 - mse: 1.4050 - val_loss: 0.8866 - val_mse: 1.4201\n",
      "Epoch 25/25\n",
      "726/726 [==============================] - 1s 2ms/step - loss: 0.8821 - mse: 1.4068 - val_loss: 0.8904 - val_mse: 1.3593\n"
     ]
    }
   ],
   "source": [
    "reg_model.compile(loss='mae',optimizer='sgd',metrics=['mse'])\n",
    "a=reg_model.fit(x_real_train[0:],y_real_train,batch_size=16,epochs=25,validation_data=[x_valid,y_valid])"
   ]
  },
  {
   "cell_type": "code",
   "execution_count": 10,
   "id": "b0e49227",
   "metadata": {},
   "outputs": [],
   "source": [
    "import pandas as pd\n",
    "import matplotlib.pyplot as plt\n",
    "A=pd.DataFrame(a.history)"
   ]
  },
  {
   "cell_type": "code",
   "execution_count": 11,
   "id": "adb6706e",
   "metadata": {},
   "outputs": [
    {
     "data": {
      "image/png": "[encoded data removed]",
      "text/plain": [
       "<Figure size 432x288 with 1 Axes>"
      ]
     },
     "metadata": {
      "needs_background": "light"
     },
     "output_type": "display_data"
    },
    {
     "data": {
      "image/png": "[encoded data removed]",
      "text/plain": [
       "<Figure size 432x288 with 1 Axes>"
      ]
     },
     "metadata": {
      "needs_background": "light"
     },
     "output_type": "display_data"
    }
   ],
   "source": [
    "plt.subplot(211)\n",
    "plt.plot(A['loss'])\n",
    "plt.plot(A['val_loss'])\n",
    "plt.grid()\n",
    "plt.xlabel('epochs')\n",
    "plt.legend(['loss','val_loss'])\n",
    "plt.show()\n",
    "\n",
    "plt.subplot(212)\n",
    "plt.plot(A['mse'])\n",
    "plt.plot(A['val_mse'])\n",
    "plt.grid()\n",
    "plt.xlabel('epochs')\n",
    "plt.legend(['mse','val_mse'])\n",
    "plt.show()"
   ]
  },
  {
   "cell_type": "code",
   "execution_count": 18,
   "id": "d035cd74",
   "metadata": {},
   "outputs": [
    {
     "name": "stdout",
     "output_type": "stream",
     "text": [
      "162/162 [==============================] - 0s 570us/step - loss: 0.8881 - mse: 1.3682\n"
     ]
    },
    {
     "data": {
      "text/plain": [
       "array([[1.9049604],\n",
       "       [1.8988702],\n",
       "       [1.7429411],\n",
       "       [1.8699827],\n",
       "       [1.6220152],\n",
       "       [1.9648123],\n",
       "       [1.9095299],\n",
       "       [1.9192736],\n",
       "       [1.9678428],\n",
       "       [1.8355703]], dtype=float32)"
      ]
     },
     "execution_count": 18,
     "metadata": {},
     "output_type": "execute_result"
    }
   ],
   "source": [
    "mse_model=reg_model.evaluate(x_test,y_test)\n",
    "x_new=x_test[:10]\n",
    "y_pred=reg_model.predict(x_new)\n",
    "y_pred"
   ]
  }
 ],
 "metadata": {
  "kernelspec": {
   "display_name": "Python 3 (ipykernel)",
   "language": "python",
   "name": "python3"
  },
  "language_info": {
   "codemirror_mode": {
    "name": "ipython",
    "version": 3
   },
   "file_extension": ".py",
   "mimetype": "text/x-python",
   "name": "python",
   "nbconvert_exporter": "python",
   "pygments_lexer": "ipython3",
   "version": "3.9.7"
  }
 },
 "nbformat": 4,
 "nbformat_minor": 5
}
