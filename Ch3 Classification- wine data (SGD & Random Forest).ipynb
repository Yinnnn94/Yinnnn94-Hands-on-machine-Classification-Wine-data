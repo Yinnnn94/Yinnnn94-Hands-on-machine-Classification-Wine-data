{
 "cells": [
  {
   "cell_type": "code",
   "execution_count": 1,
   "id": "c6d90f7a",
   "metadata": {},
   "outputs": [
    {
     "data": {
      "text/plain": [
       "dict_keys(['data', 'target', 'frame', 'target_names', 'DESCR', 'feature_names'])"
      ]
     },
     "execution_count": 1,
     "metadata": {},
     "output_type": "execute_result"
    }
   ],
   "source": [
    "from sklearn import datasets\n",
    "wine=datasets.load_wine()\n",
    "wine.keys()"
   ]
  },
  {
   "cell_type": "code",
   "execution_count": 2,
   "id": "4ef18fd0",
   "metadata": {},
   "outputs": [],
   "source": [
    "x_data=wine['data']\n",
    "y_target=wine['target']"
   ]
  },
  {
   "cell_type": "code",
   "execution_count": 3,
   "id": "a72c3e79",
   "metadata": {},
   "outputs": [
    {
     "name": "stdout",
     "output_type": "stream",
     "text": [
      "(178, 13)\n",
      "(178,)\n"
     ]
    }
   ],
   "source": [
    "print(x_data.shape)\n",
    "print(y_target.shape)"
   ]
  },
  {
   "cell_type": "code",
   "execution_count": 4,
   "id": "cd2eb480",
   "metadata": {},
   "outputs": [
    {
     "name": "stdout",
     "output_type": "stream",
     "text": [
      "<class 'numpy.ndarray'>\n",
      "<class 'numpy.ndarray'>\n"
     ]
    }
   ],
   "source": [
    "print(type(x_data))\n",
    "print(type(y_target))"
   ]
  },
  {
   "cell_type": "code",
   "execution_count": 5,
   "id": "8e107ded",
   "metadata": {},
   "outputs": [
    {
     "data": {
      "text/plain": [
       "numpy.int32"
      ]
     },
     "execution_count": 5,
     "metadata": {},
     "output_type": "execute_result"
    }
   ],
   "source": [
    "type(y_target[0]) #已經是數字了，所以無需轉換"
   ]
  },
  {
   "cell_type": "markdown",
   "id": "d8334543",
   "metadata": {},
   "source": [
    "### 已將資料分成訓練組與測試組(80%,20%)"
   ]
  },
  {
   "cell_type": "code",
   "execution_count": 6,
   "id": "00cd6424",
   "metadata": {},
   "outputs": [],
   "source": [
    "x_train=x_data[:150]\n",
    "x_test=x_data[150:]\n",
    "y_train=y_target[:150]\n",
    "y_test=y_target[150:]"
   ]
  },
  {
   "cell_type": "code",
   "execution_count": 7,
   "id": "f79cb225",
   "metadata": {},
   "outputs": [],
   "source": [
    "y_train_1=(y_train==1)\n",
    "y_test_1=(y_test==1)"
   ]
  },
  {
   "cell_type": "code",
   "execution_count": 8,
   "id": "e46d53d8",
   "metadata": {},
   "outputs": [
    {
     "data": {
      "text/plain": [
       "SGDClassifier(random_state=42)"
      ]
     },
     "execution_count": 8,
     "metadata": {},
     "output_type": "execute_result"
    }
   ],
   "source": [
    "from sklearn.linear_model import SGDClassifier\n",
    "sgd_clf=SGDClassifier(random_state=42)\n",
    "sgd_clf.fit(x_train,y_train_1)#利用前面資料分辨是否為第一類"
   ]
  },
  {
   "cell_type": "code",
   "execution_count": 9,
   "id": "d745b903",
   "metadata": {},
   "outputs": [
    {
     "data": {
      "text/plain": [
       "RandomForestClassifier(random_state=42)"
      ]
     },
     "execution_count": 9,
     "metadata": {},
     "output_type": "execute_result"
    }
   ],
   "source": [
    "from sklearn.ensemble import RandomForestClassifier\n",
    "rf_clf=RandomForestClassifier(random_state=42)\n",
    "rf_clf.fit(x_train,y_train_1) #利用前面資料分辨是否為第一類"
   ]
  },
  {
   "cell_type": "code",
   "execution_count": 10,
   "id": "b58a33f5",
   "metadata": {},
   "outputs": [
    {
     "name": "stdout",
     "output_type": "stream",
     "text": [
      "SGD交叉驗證三次的正確率平均數: 0.687\n",
      "隨機樹交叉驗證三次的正確率平均數: 0.827\n"
     ]
    }
   ],
   "source": [
    "from sklearn.model_selection import cross_val_score\n",
    "sgd_accuracy=cross_val_score(sgd_clf,x_train,y_train_1,cv=3,scoring='accuracy')\n",
    "rf_accuracy=cross_val_score(rf_clf,x_train,y_train_1,cv=3,scoring='accuracy')\n",
    "print('SGD交叉驗證三次的正確率平均數:',sgd_accuracy.mean().round(3))\n",
    "print('隨機樹交叉驗證三次的正確率平均數:',rf_accuracy.mean().round(3))"
   ]
  },
  {
   "cell_type": "code",
   "execution_count": 11,
   "id": "8541f146",
   "metadata": {},
   "outputs": [
    {
     "name": "stdout",
     "output_type": "stream",
     "text": [
      "SGD三次預測的結果:\n",
      " [False False False False  True False False False False False False False\n",
      " False False False False False False False False  True False False False\n",
      " False  True False False False False False False False False False False\n",
      " False False False False False False False False False False False False\n",
      " False False False False False False  True  True  True False False  True\n",
      " False  True  True  True  True False  True  True False  True False  True\n",
      "  True False False  True  True  True  True  True  True False False False\n",
      " False  True False False False False False  True False  True  True False\n",
      "  True  True False  True False False  True  True False  True  True  True\n",
      "  True  True  True  True  True  True  True  True  True  True  True  True\n",
      "  True  True  True  True  True  True  True  True  True  True  True  True\n",
      "  True  True  True  True  True  True  True  True  True  True  True  True\n",
      "  True  True  True  True  True  True]\n",
      "隨機樹三次預測的結果:\n",
      " [False False False False False False False False False False False False\n",
      " False False False False False False False False False False False False\n",
      " False False False False False False False False False False False False\n",
      " False False False False False False False False False False False False\n",
      " False False False False False False False False False False False  True\n",
      "  True False False  True  True  True False  True False  True  True  True\n",
      "  True False  True  True  True  True  True  True  True  True  True False\n",
      "  True  True  True  True  True  True  True  True  True  True  True  True\n",
      "  True  True  True  True  True  True  True  True  True  True  True  True\n",
      "  True  True  True  True  True  True  True  True  True  True  True  True\n",
      "  True  True  True  True  True  True  True  True  True  True  True  True\n",
      "  True  True  True  True  True  True  True  True  True  True  True  True\n",
      "  True  True  True  True  True  True]\n"
     ]
    }
   ],
   "source": [
    "from sklearn.model_selection import cross_val_predict\n",
    "sgd_pred=cross_val_predict(sgd_clf,x_train,y_train_1,cv=3)\n",
    "rf_pred=cross_val_predict(rf_clf,x_train,y_train_1,cv=3)\n",
    "print('SGD三次預測的結果:\\n',sgd_pred)\n",
    "print('隨機樹三次預測的結果:\\n',rf_pred)"
   ]
  },
  {
   "cell_type": "code",
   "execution_count": 12,
   "id": "bcd63781",
   "metadata": {},
   "outputs": [
    {
     "name": "stdout",
     "output_type": "stream",
     "text": [
      "SGD混淆矩陣:\n",
      " [[53 26]\n",
      " [21 50]]\n",
      "隨機樹混淆矩陣:\n",
      " [[59 20]\n",
      " [ 6 65]]\n"
     ]
    }
   ],
   "source": [
    "from sklearn.metrics import confusion_matrix\n",
    "sgd_confusion=confusion_matrix(y_train_1,sgd_pred)\n",
    "rf_confusion=confusion_matrix(y_train_1,rf_pred)\n",
    "print('SGD混淆矩陣:\\n',sgd_confusion)\n",
    "print('隨機樹混淆矩陣:\\n',rf_confusion)"
   ]
  },
  {
   "cell_type": "code",
   "execution_count": 13,
   "id": "c61111c1",
   "metadata": {},
   "outputs": [
    {
     "name": "stdout",
     "output_type": "stream",
     "text": [
      "f1_score: 0.68\n",
      "f1_score: 0.833\n"
     ]
    }
   ],
   "source": [
    "from sklearn.metrics import f1_score\n",
    "sgd_f1=f1_score(y_train_1,sgd_pred)\n",
    "rf_f1=f1_score(y_train_1,rf_pred)\n",
    "print('f1_score:',sgd_f1.round(3))\n",
    "print('f1_score:',rf_f1.round(3))"
   ]
  },
  {
   "cell_type": "code",
   "execution_count": 14,
   "id": "dfe857eb",
   "metadata": {},
   "outputs": [
    {
     "name": "stdout",
     "output_type": "stream",
     "text": [
      "[0.04 0.01 0.03 0.01 0.09 0.   0.01 0.01 0.01 0.06 0.   0.08 0.06 0.03\n",
      " 0.03 0.   0.01 0.05 0.09 0.   0.05 0.05 0.14 0.16 0.3  0.29 0.02 0.15\n",
      " 0.12 0.05 0.13 0.03 0.19 0.15 0.06 0.01 0.05 0.1  0.41 0.07 0.02 0.17\n",
      " 0.   0.14 0.18 0.03 0.02 0.13 0.01 0.02 0.28 0.04 0.01 0.   0.   0.01\n",
      " 0.   0.   0.06 0.65 0.62 0.34 0.42 0.86 0.95 0.59 0.5  0.74 0.48 0.94\n",
      " 0.63 0.73 0.66 0.39 0.85 0.78 0.57 0.93 0.86 0.92 1.   0.62 0.99 0.32\n",
      " 0.97 0.94 0.98 0.97 0.95 0.98 0.93 0.9  0.89 0.95 0.96 0.85 0.84 0.98\n",
      " 0.79 0.96 0.95 0.92 0.99 1.   0.95 0.99 1.   0.99 0.99 0.79 0.88 0.99\n",
      " 0.94 1.   1.   0.99 1.   0.99 0.97 1.   0.77 0.7  0.96 0.8  0.88 0.92\n",
      " 0.86 0.99 1.   0.97 0.81 0.8  0.85 0.87 0.89 0.84 0.84 0.86 0.85 0.83\n",
      " 0.84 0.64 0.84 0.77 0.8  0.62 0.83 0.81 0.72 0.77]\n"
     ]
    }
   ],
   "source": [
    "sgd_score=cross_val_predict(sgd_clf,x_train,y_train_1,cv=3,method='decision_function')\n",
    "rf_score=cross_val_predict(rf_clf,x_train,y_train_1,cv=3,method='predict_proba')\n",
    "rf_score=rf_score[:,1]\n",
    "print(rf_score)"
   ]
  },
  {
   "cell_type": "code",
   "execution_count": 15,
   "id": "dcc8e4f9",
   "metadata": {},
   "outputs": [],
   "source": [
    "from sklearn.metrics import precision_recall_curve\n",
    "sgd_precisoin,sgd_recall,sgd_thres=precision_recall_curve(y_train_1,sgd_score)\n",
    "rf_precision,rf_recall,rf_thres=precision_recall_curve(y_train_1,rf_score)"
   ]
  },
  {
   "cell_type": "code",
   "execution_count": 16,
   "id": "4164c7f1",
   "metadata": {},
   "outputs": [],
   "source": [
    "import matplotlib.pyplot as plt"
   ]
  },
  {
   "cell_type": "code",
   "execution_count": 17,
   "id": "142ac21d",
   "metadata": {},
   "outputs": [],
   "source": [
    "def plot_precision_recall_curve(p,r,t):\n",
    "    plt.plot(t,p[:-1],'b--',label='precision') #為什麼要加[:-1]? 因為門檻值數量會比其他兩個少一個1個\n",
    "    plt.plot(t,r[:-1],'g--',label='recall')\n",
    "    plt.xlabel('threshold')\n",
    "    plt.grid()\n",
    "    plt.legend()"
   ]
  },
  {
   "cell_type": "code",
   "execution_count": 18,
   "id": "ba4917cf",
   "metadata": {},
   "outputs": [
    {
     "data": {
      "image/png": "[encoded data removed]",
      "text/plain": [
       "<Figure size 432x288 with 2 Axes>"
      ]
     },
     "metadata": {
      "needs_background": "light"
     },
     "output_type": "display_data"
    }
   ],
   "source": [
    "plt.subplot(211)\n",
    "plot_precision_recall_curve(sgd_precisoin,sgd_recall,sgd_thres)\n",
    "plt.subplot(212)\n",
    "plot_precision_recall_curve(rf_precision,rf_recall,rf_thres)"
   ]
  },
  {
   "cell_type": "code",
   "execution_count": 19,
   "id": "c709482a",
   "metadata": {},
   "outputs": [],
   "source": [
    "from sklearn.metrics import roc_curve\n",
    "sgd_fpr,sgd_tpr,sgd_thres_roc=roc_curve(y_train_1,sgd_score)\n",
    "rf_fpr,rf_tpr,rf_thres_roc=roc_curve(y_train_1,rf_score)"
   ]
  },
  {
   "cell_type": "code",
   "execution_count": 20,
   "id": "463837ba",
   "metadata": {},
   "outputs": [],
   "source": [
    "from sklearn.metrics import roc_auc_score\n",
    "sgd_auc=roc_auc_score(y_train_1,sgd_score)\n",
    "rf_auc=roc_auc_score(y_train_1,rf_score)"
   ]
  },
  {
   "cell_type": "code",
   "execution_count": 21,
   "id": "0cb8b0ab",
   "metadata": {},
   "outputs": [
    {
     "data": {
      "text/plain": [
       "<matplotlib.legend.Legend at 0x2a43eafc580>"
      ]
     },
     "execution_count": 21,
     "metadata": {},
     "output_type": "execute_result"
    },
    {
     "data": {
      "image/png": "[encoded data removed]",
      "text/plain": [
       "<Figure size 432x288 with 1 Axes>"
      ]
     },
     "metadata": {
      "needs_background": "light"
     },
     "output_type": "display_data"
    }
   ],
   "source": [
    "plt.plot(sgd_fpr,sgd_tpr,'b--',label='SGD--%s'%(sgd_auc).round(3))\n",
    "plt.plot(rf_fpr,rf_tpr,'g',label='random forest--%s'%(rf_auc).round(3))\n",
    "plt.grid()\n",
    "plt.legend()"
   ]
  }
 ],
 "metadata": {
  "kernelspec": {
   "display_name": "Python 3",
   "language": "python",
   "name": "python3"
  },
  "language_info": {
   "codemirror_mode": {
    "name": "ipython",
    "version": 3
   },
   "file_extension": ".py",
   "mimetype": "text/x-python",
   "name": "python",
   "nbconvert_exporter": "python",
   "pygments_lexer": "ipython3",
   "version": "3.8.8"
  }
 },
 "nbformat": 4,
 "nbformat_minor": 5
}
